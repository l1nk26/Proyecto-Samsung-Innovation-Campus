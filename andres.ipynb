{
 "cells": [
  {
   "cell_type": "code",
   "execution_count": null,
   "metadata": {},
   "outputs": [],
   "source": [
    "import pandas as pd\n",
    "import matplotlib.pyplot as plt\n",
    "archivo3 = \"diabetes_binary_health_indicators_BRFSS2015.csv\"\n",
    "df = pd.read_csv(archivo3)\n",
    "#df.head()\n",
    "\n",
    "df.select_dtypes(include=[float,int]).corr()\n",
    "\n",
    "#df.info()\n",
    "\n",
    "#df.isnull().sum()\n",
    "print(df.shape)\n",
    "#df.describe()\n",
    "\n",
    "\n",
    "df['Diabetes_binary']\n",
    "df_diabetes = df[ df['Diabetes_binary'] == 1 ]['Diabetes_binary'].count()\n",
    "df_sin_diabetes = df[ df['Diabetes_binary'] == 0 ]['Diabetes_binary'].count()\n",
    "\n",
    "\n",
    "# Crear el gráfico\n",
    "plt.bar([\"Con Diabetes\",\"Sin Diabetes\"],[df_diabetes, df_sin_diabetes])\n",
    "\n",
    "# Mostrar el gráfico\n",
    "plt.show()\n",
    "\n",
    "\n",
    "edades = []\n",
    "for x in range(13):\n",
    "    edades.append(df[ df[\"Age\"] == x+1][\"Age\"].count())\n",
    "\n",
    "print(edades)\n",
    "\n",
    "plt.title(\"Edades de los pacientes con Diabetes\")\n",
    "plt.bar(range(1,14) , edades)\n",
    "plt.show()\n"
   ]
  },
  {
   "cell_type": "code",
   "execution_count": null,
   "metadata": {},
   "outputs": [],
   "source": []
  }
 ],
 "metadata": {
  "kernelspec": {
   "display_name": "venv",
   "language": "python",
   "name": "python3"
  },
  "language_info": {
   "name": "python",
   "version": "3.12.1"
  }
 },
 "nbformat": 4,
 "nbformat_minor": 2
}
